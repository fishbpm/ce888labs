{
 "cells": [
  {
   "cell_type": "markdown",
   "metadata": {},
   "source": [
    "Begin by loading the data, and erasing ~10% (2500 samples) for validation ('99' is used as a marker)\n",
    "NOTE the original data-set is retained for reference purposes"
   ]
  },
  {
   "cell_type": "code",
   "execution_count": 2,
   "metadata": {},
   "outputs": [],
   "source": [
    "import pandas as pd\n",
    "import random\n",
    "\n",
    "df = pd.read_csv(\"jester-data-1.csv\", header=None)\n",
    "data = df.copy() #take a copy as we need the original values for validation \n",
    "data.drop(data.columns[0], axis=1, inplace=True) #1st column is irrelevant to exercise\n",
    "\n",
    "users = data.shape[0]\n",
    "jokes = data.shape[1]\n",
    "#now randomly remove 2500 ratiings\n",
    "#only valid ratings (<> 99) are removed, until we reach the target 2500\n",
    "i = 0\n",
    "while i < 2500:\n",
    "    user = random.sample(range(0, users), 1)[0]\n",
    "    joke = random.sample(range(0, jokes), 1)[0]\n",
    "    if data.iloc[user, joke] != 99:\n",
    "        data.iloc[user, joke] = 99\n",
    "        i += 1"
   ]
  },
  {
   "cell_type": "markdown",
   "metadata": {},
   "source": [
    "Latent feature weights are now generated for both users and items (jokes)\n",
    "To begin with, TWO features (attributes) are employed for both users and jokes"
   ]
  },
  {
   "cell_type": "code",
   "execution_count": 3,
   "metadata": {},
   "outputs": [],
   "source": [
    "import numpy as np\n",
    "\n",
    "n_features = 2\n",
    "\n",
    "user_ratings = data.values\n",
    "latent_user_preferences = np.random.random((user_ratings.shape[0], n_features))\n",
    "latent_item_features = np.random.random((user_ratings.shape[1], n_features))"
   ]
  },
  {
   "cell_type": "markdown",
   "metadata": {},
   "source": [
    "Starting with these orginal random features values, the predicted rating (ie. product) is calculated for every user|joke\n",
    "The deviation (error) of each prediction is then used to adjust the 2 feature weights for each component (user|joke).\n",
    "A v.small learning rate (multiplier) is used to progressively adjust the weights\n",
    "\n",
    "To begin with, 50 cycles are performed.\n",
    "The run time is calculated to indicate why we stopped at 50 iterations (practical limitation)"
   ]
  },
  {
   "cell_type": "code",
   "execution_count": 4,
   "metadata": {},
   "outputs": [
    {
     "name": "stdout",
     "output_type": "stream",
     "text": [
      "26.168652736068598\n",
      "24.236837435378554\n",
      "23.066220576853873\n",
      "22.03948157967044\n",
      "21.258538445390887\n",
      "20.628358742403126\n",
      "19.812834808037096\n",
      "18.599685902245042\n",
      "17.732328945223923\n",
      "17.395234243471837\n",
      "859.8116097450256 secs to run 50 iterations\n"
     ]
    }
   ],
   "source": [
    "import time\n",
    "\n",
    "def predict_rating(user_id,item_id):\n",
    "    \"\"\" Predict a rating given a user_id and an item_id.\n",
    "    \"\"\"\n",
    "    user_preference = latent_user_preferences[user_id]\n",
    "    item_preference = latent_item_features[item_id]\n",
    "    return user_preference.dot(item_preference)\n",
    "\n",
    "\n",
    "def train(user_id, item_id, rating, alpha = 0.0001):\n",
    "    \"\"\" a learning rate of 0.0001 is applied for adjusting the feature weights.\n",
    "    \"\"\"    \n",
    "    prediction_rating = predict_rating(user_id, item_id)\n",
    "    err =  prediction_rating - rating\n",
    "    user_pref_values = latent_user_preferences[user_id][:]\n",
    "    latent_user_preferences[user_id] -= alpha * err * latent_item_features[item_id]\n",
    "    latent_item_features[item_id] -= alpha * err * user_pref_values\n",
    "    return err\n",
    "    \n",
    "def sgd(iterations):\n",
    "    \"\"\" Iterate over all users and all items and train for \n",
    "        a certain number of iterations\n",
    "    \"\"\"\n",
    "    for iteration in range(0,iterations):\n",
    "        error = []\n",
    "        for user_id in range(0,latent_user_preferences.shape[0]):\n",
    "            for item_id in range(0,latent_item_features.shape[0]):\n",
    "                rating = user_ratings[user_id][item_id]\n",
    "                if rating != 99:\n",
    "                    err = train(user_id, item_id, rating)\n",
    "                    error.append(err)\n",
    "        mse = (np.array(error) ** 2).mean()   \n",
    "        if(iteration%5 == 0):\n",
    "            print(mse)\n",
    "    return\n",
    "\n",
    "cycles = 50\n",
    "t0 = time.time()\n",
    "sgd(cycles)\n",
    "print(time.time() - t0,\"secs to run\", cycles, \"iterations\")"
   ]
  },
  {
   "cell_type": "code",
   "execution_count": 7,
   "metadata": {},
   "outputs": [
    {
     "name": "stdout",
     "output_type": "stream",
     "text": [
      "0 cycles - 26.16242668482842\n",
      "5 cycles - 24.23635625592631\n",
      "10 cycles - 23.054088035114788\n",
      "15 cycles - 22.024882237706066\n",
      "20 cycles - 21.26160695478686\n",
      "25 cycles - 20.711197751218464\n",
      "30 cycles - 20.146831474272094\n",
      "35 cycles - 19.1905002307553\n",
      "40 cycles - 18.091633616000678\n",
      "45 cycles - 17.534870858905958\n",
      "50 cycles - 17.323995796996034\n",
      "55 cycles - 17.232261207742763\n",
      "60 cycles - 17.186262382864456\n",
      "65 cycles - 17.16141540055086\n",
      "70 cycles - 17.147516167859372\n",
      "75 cycles - 17.13961231726456\n",
      "80 cycles - 17.135094851182544\n",
      "85 cycles - 17.132529774352932\n",
      "90 cycles - 17.131107897835395\n",
      "95 cycles - 17.130363570159655\n",
      "1745.740651845932 secs to run 100 iterations\n"
     ]
    },
    {
     "data": {
      "text/plain": [
       "<seaborn.axisgrid.FacetGrid at 0x1888419a4e0>"
      ]
     },
     "execution_count": 7,
     "metadata": {},
     "output_type": "execute_result"
    },
    {
     "data": {
      "text/plain": [
       "<matplotlib.figure.Figure at 0x18883dbed30>"
      ]
     },
     "metadata": {},
     "output_type": "display_data"
    },
    {
     "data": {
      "image/png": "[encoded data removed]",
      "text/plain": [
       "<matplotlib.figure.Figure at 0x1888419a550>"
      ]
     },
     "metadata": {},
     "output_type": "display_data"
    }
   ],
   "source": [
    "import pandas as pd\n",
    "import random\n",
    "\n",
    "df = pd.read_csv(\"jester-data-1.csv\", header=None)\n",
    "data = df.copy() #take a copy as we need the original values for validation \n",
    "data.drop(data.columns[0], axis=1, inplace=True) #1st column is irrelevant to exercise\n",
    "\n",
    "users = data.shape[0]\n",
    "jokes = data.shape[1]\n",
    "#now randomly remove 2500 ratiings\n",
    "#only valid ratings (<> 99) are removed, until we reach the target 2500\n",
    "i = 0\n",
    "while i < 2500:\n",
    "    user = random.sample(range(0, users), 1)[0]\n",
    "    joke = random.sample(range(0, jokes), 1)[0]\n",
    "    if data.iloc[user, joke] != 99:\n",
    "        data.iloc[user, joke] = 99\n",
    "        i += 1\n",
    "\n",
    "import numpy as np\n",
    "\n",
    "n_features = 2\n",
    "\n",
    "user_ratings = data.values\n",
    "latent_user_preferences = np.random.random((user_ratings.shape[0], n_features))\n",
    "latent_item_features = np.random.random((user_ratings.shape[1], n_features))\n",
    "        \n",
    "import time\n",
    "import matplotlib.pyplot as plt\n",
    "import seaborn as sb\n",
    "\n",
    "def predict_rating(user_id,item_id):\n",
    "    \"\"\" Predict a rating given a user_id and an item_id.\n",
    "    \"\"\"\n",
    "    user_preference = latent_user_preferences[user_id]\n",
    "    item_preference = latent_item_features[item_id]\n",
    "    return user_preference.dot(item_preference)\n",
    "\n",
    "\n",
    "def train(user_id, item_id, rating, alpha = 0.0001):\n",
    "    \"\"\" a learning rate of 0.0001 is applied for adjusting the feature weights.\n",
    "    \"\"\"    \n",
    "    prediction_rating = predict_rating(user_id, item_id)\n",
    "    err =  prediction_rating - rating\n",
    "    user_pref_values = latent_user_preferences[user_id][:]\n",
    "    latent_user_preferences[user_id] -= alpha * err * latent_item_features[item_id]\n",
    "    latent_item_features[item_id] -= alpha * err * user_pref_values\n",
    "    return err\n",
    "    \n",
    "def sgd(iterations):\n",
    "    \"\"\" Iterate over all users and all items and train for \n",
    "        a certain number of iterations\n",
    "    \"\"\"\n",
    "    mean_error = []\n",
    "    for iteration in range(0,iterations):\n",
    "        error = []\n",
    "        for user_id in range(0,latent_user_preferences.shape[0]):\n",
    "            for item_id in range(0,latent_item_features.shape[0]):\n",
    "                rating = user_ratings[user_id][item_id]\n",
    "                if rating != 99:\n",
    "                    err = train(user_id, item_id, rating)\n",
    "                    error.append(err)\n",
    "        mse = (np.array(error) ** 2).mean()\n",
    "        mean_error.append(mse)\n",
    "        if(iteration%5 == 0):\n",
    "            print(iteration, \"cycles -\",mse)\n",
    "    return mean_error\n",
    "\n",
    "cycles = 100\n",
    "t0 = time.time()\n",
    "error = sgd(cycles)\n",
    "print(time.time() - t0,\"secs to run\", cycles, \"iterations\")\n",
    "\n",
    "plotdata1 = pd.DataFrame(np.vstack((np.arange(np.array(error).shape[0]), error)).T, columns=['cycles', 'MSE'])\n",
    "plt.figure()\n",
    "sb.lmplot(plotdata1.columns[0], plotdata1.columns[1], data=plotdata1, fit_reg=False)"
   ]
  },
  {
   "cell_type": "markdown",
   "metadata": {},
   "source": [
    "As can be seen above, after around 50 iterations, there is a very marked reduction in rate of improvement. The error is however still reducing, albeit very slowly.\n",
    "These 100 cycles took 30mins (~1750 secs) to run.\n",
    "At this final very slow rate of gain, a very very long run time would hence be needed to achieve significant improvement"
   ]
  },
  {
   "cell_type": "markdown",
   "metadata": {},
   "source": [
    "We will now calculate the MSE for the 'validation' samples that were not available for learning - ie. where we had removed the rating for testing purposes.\n",
    "This is a better test of performance, as these samples come from a separate population that were not exposed in learning phase"
   ]
  },
  {
   "cell_type": "code",
   "execution_count": 8,
   "metadata": {},
   "outputs": [
    {
     "name": "stdout",
     "output_type": "stream",
     "text": [
      "17.803216488200594 error across the 2500 original ratings\n"
     ]
    }
   ],
   "source": [
    "predictions = latent_user_preferences.dot(latent_item_features.T)\n",
    "\n",
    "error = []\n",
    "for user in range(users):\n",
    "    for joke in range(jokes):\n",
    "        #if this was a salient data point in the original sample\n",
    "        if df.iloc[user, joke + 1] != 99:\n",
    "            #and we used it for validation\n",
    "            if data.iloc[user, joke] == 99: \n",
    "                #then compare predicted rating to original actual rating\n",
    "                err = predictions[user, joke] - df.iloc[user, joke + 1]\n",
    "                error.append(err)\n",
    "mse = (np.array(error) ** 2).mean()\n",
    "print(mse, \"error across the\", len(error), \"original ratings\")"
   ]
  },
  {
   "cell_type": "markdown",
   "metadata": {},
   "source": [
    "This error (17.80) is slightly higher than the final error reported during learning (17.13).\n",
    "This margin reflects the fact that these particular pairs (user|joke) were not exposed during training\n",
    "\n",
    "More importantly, however, it still proves the utility of the approach - the meta-features we have built successfully generalise to these other samples unseen during learning - as 17.80 is still far better than the original error rate of 26.16"
   ]
  },
  {
   "cell_type": "markdown",
   "metadata": {},
   "source": [
    "The learning rate is now TRIPLED to  0.0003, to observe the effect\n",
    "\n",
    "NOTE - the full code is not shown - as it largely replicates the code already shown above\n",
    "I have just include those snippets, that show the relevant adjustments"
   ]
  },
  {
   "cell_type": "code",
   "execution_count": 11,
   "metadata": {},
   "outputs": [
    {
     "name": "stdout",
     "output_type": "stream",
     "text": [
      "0 cycles - 25.400355333556575\n",
      "5 cycles - 21.414598543483855\n",
      "10 cycles - 17.61337489638814\n",
      "15 cycles - 17.298528290164153\n",
      "20 cycles - 17.26461432333832\n",
      "25 cycles - 17.265517801793415\n",
      "30 cycles - 17.273301299751463\n",
      "35 cycles - 17.28319059529316\n",
      "40 cycles - 17.294421834264103\n",
      "45 cycles - 17.307033064068325\n",
      "50 cycles - 17.321234732448698\n",
      "55 cycles - 17.33727848540834\n",
      "60 cycles - 17.355429134459307\n",
      "65 cycles - 17.375956057048658\n",
      "70 cycles - 17.39912666063328\n",
      "75 cycles - 17.4252009546121\n",
      "80 cycles - 17.45443198253503\n",
      "85 cycles - 17.48708021861676\n",
      "90 cycles - 17.52345214439141\n",
      "95 cycles - 17.56397308632421\n",
      "1745.7525146007538 secs to run 100 iterations\n"
     ]
    },
    {
     "data": {
      "text/plain": [
       "<matplotlib.figure.Figure at 0x1888a13cdd8>"
      ]
     },
     "metadata": {},
     "output_type": "display_data"
    },
    {
     "data": {
      "image/png": "[encoded data removed]",
      "text/plain": [
       "<matplotlib.figure.Figure at 0x1888a13e5f8>"
      ]
     },
     "metadata": {},
     "output_type": "display_data"
    }
   ],
   "source": [
    "def train(user_id, item_id, rating, alpha = 0.0003):\n",
    "    \"\"\" a learning rate of 0.0003 (triple) is now applied for adjusting the feature weights.\n",
    "    \"\"\"    \n",
    "    prediction_rating = predict_rating(user_id, item_id)\n",
    "    err =  prediction_rating - rating\n",
    "    user_pref_values = latent_user_preferences[user_id][:]\n",
    "    latent_user_preferences[user_id] -= alpha * err * latent_item_features[item_id]\n",
    "    latent_item_features[item_id] -= alpha * err * user_pref_values\n",
    "    return err\n",
    "    "
   ]
  },
  {
   "cell_type": "markdown",
   "metadata": {},
   "source": [
    "As can be seen above, incereasing the learning rate has increased the speed to convergence (to around 10 cycles)\n",
    "However the resulting error is slightly higher, and furthermore this error is now increasing with further cycles\n",
    "It appears that increasing the learning rate is detrimental to the results. A smaller learning rate over more extended cycles gives better results"
   ]
  },
  {
   "cell_type": "markdown",
   "metadata": {},
   "source": [
    "The number of meta (latent) features is now increased to THREE for both users and jokes, to observe the effect.\n",
    "The original learning rate of 0.0001 is re-instated\n",
    "\n",
    "NOTE - the full code is not shown - as it largely replicates the code already shown above\n",
    "I have just include those snippets, that show the relevant adjustments"
   ]
  },
  {
   "cell_type": "code",
   "execution_count": 12,
   "metadata": {},
   "outputs": [
    {
     "name": "stdout",
     "output_type": "stream",
     "text": [
      "0 cycles - 25.82291303836171\n",
      "5 cycles - 24.397459351357078\n",
      "10 cycles - 23.50220602928043\n",
      "15 cycles - 22.28588006485448\n",
      "20 cycles - 20.098547815871008\n",
      "25 cycles - 18.205400923808767\n",
      "30 cycles - 17.58999708383573\n",
      "35 cycles - 17.371620936127865\n",
      "40 cycles - 17.253187405354947\n",
      "45 cycles - 17.164432380451817\n",
      "50 cycles - 17.07884151755705\n",
      "55 cycles - 16.983484586460253\n",
      "60 cycles - 16.87628736674226\n",
      "65 cycles - 16.765643395001472\n",
      "70 cycles - 16.663701143795397\n",
      "75 cycles - 16.577751763279554\n",
      "80 cycles - 16.50850988363843\n",
      "85 cycles - 16.453536059836093\n",
      "90 cycles - 16.410015438482485\n",
      "95 cycles - 16.375628460860067\n",
      "1750.013827085495 secs to run 100 iterations\n"
     ]
    },
    {
     "data": {
      "text/plain": [
       "<matplotlib.figure.Figure at 0x188852aec88>"
      ]
     },
     "metadata": {},
     "output_type": "display_data"
    },
    {
     "data": {
      "image/png": "[encoded data removed]",
      "text/plain": [
       "<matplotlib.figure.Figure at 0x188852ae080>"
      ]
     },
     "metadata": {},
     "output_type": "display_data"
    }
   ],
   "source": [
    "n_features = 3\n",
    "\n",
    "def train(user_id, item_id, rating, alpha = 0.0001):\n",
    "    \"\"\" a learning rate of 0.0001 is applied for adjusting the feature weights.\n",
    "    \"\"\"    \n",
    "    prediction_rating = predict_rating(user_id, item_id)\n",
    "    err =  prediction_rating - rating\n",
    "    user_pref_values = latent_user_preferences[user_id][:]\n",
    "    latent_user_preferences[user_id] -= alpha * err * latent_item_features[item_id]\n",
    "    latent_item_features[item_id] -= alpha * err * user_pref_values\n",
    "    return err\n",
    "    "
   ]
  },
  {
   "cell_type": "markdown",
   "metadata": {},
   "source": [
    "As can be seen above, increasing the #features has further improved the convergence.\n",
    "The final residual error is now almost 1% smaller - and the rate of convergence is steeper\n",
    "\n",
    "We will now check the validation error on the un-seen ratings"
   ]
  },
  {
   "cell_type": "code",
   "execution_count": 13,
   "metadata": {},
   "outputs": [
    {
     "name": "stdout",
     "output_type": "stream",
     "text": [
      "17.60773873578723 error across the 2500 original ratings\n"
     ]
    }
   ],
   "source": [
    "predictions = latent_user_preferences.dot(latent_item_features.T)\n",
    "\n",
    "error = []\n",
    "for user in range(users):\n",
    "    for joke in range(jokes):\n",
    "        #if this was a salient data point in the original sample\n",
    "        if df.iloc[user, joke + 1] != 99:\n",
    "            #and we used it for validation\n",
    "            if data.iloc[user, joke] == 99: \n",
    "                #then compare predicted rating to original actual rating\n",
    "                err = predictions[user, joke] - df.iloc[user, joke + 1]\n",
    "                error.append(err)\n",
    "mse = (np.array(error) ** 2).mean()\n",
    "print(mse, \"error across the\", len(error), \"original ratings\")"
   ]
  },
  {
   "cell_type": "markdown",
   "metadata": {},
   "source": [
    "This shows a slight improvement on the original (2-feature) validation score.\n",
    "This is much smaller, however, than the amount of improvement shown during the above learning phase. "
   ]
  }
 ],
 "metadata": {
  "kernelspec": {
   "display_name": "Python 3",
   "language": "python",
   "name": "python3"
  },
  "language_info": {
   "codemirror_mode": {
    "name": "ipython",
    "version": 3
   },
   "file_extension": ".py",
   "mimetype": "text/x-python",
   "name": "python",
   "nbconvert_exporter": "python",
   "pygments_lexer": "ipython3",
   "version": "3.5.4"
  }
 },
 "nbformat": 4,
 "nbformat_minor": 2
}
