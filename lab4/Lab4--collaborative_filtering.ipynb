{
 "cells": [
  {
   "cell_type": "markdown",
   "metadata": {},
   "source": [
    "Begin by loading the data, and marking 10% (~2500 samples) for validation (99)"
   ]
  },
  {
   "cell_type": "code",
   "execution_count": null,
   "metadata": {
    "collapsed": true
   },
   "outputs": [],
   "source": [
    "import pandas as pd\n",
    "df = pd.read_csv(\"jester-data-1.csv\", header=None)\n",
    "data = df.copy() #take a copy as we need the original values for validation \n",
    "data.drop(data.columns[0], axis=1, inplace=True) #1st column is irrelevant to exercise\n",
    "\n",
    "users = data.shape[0]\n",
    "jokes = data.shape[1]\n",
    "#now randomly remove 2500 ratiings\n",
    "#only valid ratings (<> 99) are removed, until we reach the target 2500\n",
    "i = 0\n",
    "while i < 2500:\n",
    "    user = random.sample(range(0, users), 1)[0]\n",
    "    joke = random.sample(range(0, jokes), 1)[0]\n",
    "    if data.iloc[user, joke] != 99:\n",
    "        data.iloc[user, joke] = 99\n",
    "        i += 1"
   ]
  }
 ],
 "metadata": {
  "kernelspec": {
   "display_name": "Python 3",
   "language": "python",
   "name": "python3"
  },
  "language_info": {
   "codemirror_mode": {
    "name": "ipython",
    "version": 3
   },
   "file_extension": ".py",
   "mimetype": "text/x-python",
   "name": "python",
   "nbconvert_exporter": "python",
   "pygments_lexer": "ipython3",
   "version": "3.6.3"
  }
 },
 "nbformat": 4,
 "nbformat_minor": 2
}
